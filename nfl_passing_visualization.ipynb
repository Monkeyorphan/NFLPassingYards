{
 "cells": [
  {
   "cell_type": "code",
   "execution_count": 43,
   "metadata": {},
   "outputs": [
    {
     "name": "stdout",
     "output_type": "stream",
     "text": [
      "2021 Total Regular Season Passing Yards of all 32 NFL Teams: 124,203\n"
     ]
    }
   ],
   "source": [
    "# Create a Dictionary with 2021 Total Passing Yards data\n",
    "passing_2021 = {\n",
    "    'Buccaneers': 5229,\n",
    "    'Chargers': 4800,\n",
    "    'Cowboys': 4800,\n",
    "    'Chiefs': 4791,\n",
    "    'Rams': 4642,\n",
    "    'Raiders': 4567,\n",
    "    'Bengals': 4403,\n",
    "    'Cardinals': 4276,\n",
    "    'Packers': 4315,\n",
    "    'Vikings': 4238,\n",
    "    'Bills': 4284,\n",
    "    '49ers': 4221,\n",
    "    'Ravens': 3961,\n",
    "    'Patriots': 3857,\n",
    "    'Steelers': 3778,\n",
    "    'Falcons': 3713,\n",
    "    'Jets': 3541,\n",
    "    'Dolphins': 3651,\n",
    "    'Lions': 3598,\n",
    "    'Broncos': 3593,\n",
    "    'Seahawks': 3432,\n",
    "    'Washington': 3441,\n",
    "    'Titans': 3418,\n",
    "    'Jaguars': 3436,\n",
    "    'Bears': 3207,\n",
    "    'Texans': 3305,\n",
    "    'Browns': 3320,\n",
    "    'Colts': 3361,\n",
    "    'Eagles': 3404,\n",
    "    'Panthers': 3239,\n",
    "    'Giants': 3196,\n",
    "    'Saints': 3186\n",
    "}\n",
    "\n",
    "# Format the values to clean them up by adding commas in each thousands place\n",
    "r = \"{:,}\".format(sum(passing_2021.values()))\n",
    "\n",
    "# Use the Len and Sum functions to verify all 32 teams are in the dictionary and to see the Total Passing Yards for 2021\n",
    "print('2021 Total Regular Season Passing Yards of all', len(passing_2021), 'NFL Teams:', r)"
   ]
  },
  {
   "cell_type": "code",
   "execution_count": 44,
   "metadata": {},
   "outputs": [
    {
     "name": "stdout",
     "output_type": "stream",
     "text": [
      "2020 Total Regular Season Passing Yards of all 32 NFL Teams: 122,954\n"
     ]
    }
   ],
   "source": [
    "# Create a Dictionary with 2020 Total Passing Yards data\n",
    "passing_2020 = {\n",
    "    'Chiefs': 4854,\n",
    "    'Texans': 4538,\n",
    "    'Bills': 4620,\n",
    "    'Buccaneers': 4626,\n",
    "    'Falcons': 4363,\n",
    "    'Chargers': 4329,\n",
    "    'Cowboys': 4161,\n",
    "    'Lions': 4104,\n",
    "    'Raiders': 4217,\n",
    "    '49ers': 4033,\n",
    "    'Packers': 4106,\n",
    "    'Vikings': 4009,\n",
    "    'Seahawks': 3941,\n",
    "    'Colts': 4053,\n",
    "    'Rams': 4014,\n",
    "    'Steelers': 4003,\n",
    "    'Panthers': 3888,\n",
    "    'Cardinals': 3916,\n",
    "    'Jaguars': 3699,\n",
    "    'Saints': 3758,\n",
    "    'Dolphins': 3736,\n",
    "    'Bears': 3655,\n",
    "    'Titans': 3653,\n",
    "    'Washington': 3465,\n",
    "    'Bengals': 3448,\n",
    "    'Eagles': 3327,\n",
    "    'Browns': 3539,\n",
    "    'Broncos': 3451,\n",
    "    'Giants': 3026,\n",
    "    'Patriots': 2890,\n",
    "    'Jets': 2796,\n",
    "    'Ravens': 2736\n",
    "}\n",
    "\n",
    "# Format the values to clean them up by adding commas in each thousands place\n",
    "q = \"{:,}\".format(sum(passing_2020.values()))\n",
    "\n",
    "# Use the Len and Sum functions to verify all 32 teams are in the dictionary and to see the Total Passing Yards for 2020\n",
    "print('2020 Total Regular Season Passing Yards of all', len(passing_2020), 'NFL Teams:', q)"
   ]
  },
  {
   "cell_type": "code",
   "execution_count": 45,
   "metadata": {},
   "outputs": [
    {
     "name": "stdout",
     "output_type": "stream",
     "text": [
      "2019 Total Regular Season Passing Yards of all 32 NFL Teams: 120,301\n"
     ]
    }
   ],
   "source": [
    "# Create a Dictionary with 2019 Total Passing Yards data\n",
    "passing_2019 = {\n",
    "    'Buccaneers': 4845,\n",
    "    'Falcons': 4714,\n",
    "    'Cowboys': 4751,\n",
    "    'Chiefs': 4498,\n",
    "    'Rams': 4499,\n",
    "    'Chargers': 4426,\n",
    "    'Saints': 4244,\n",
    "    'Lions': 3900,\n",
    "    'Patriots': 3961,\n",
    "    'Panthers': 3650,\n",
    "    'Dolphins': 3804,\n",
    "    'Seahawks': 3791,\n",
    "    'Raiders': 3926,\n",
    "    'Texans': 3783,\n",
    "    'Giants': 3731,\n",
    "    'Eagles': 3833,\n",
    "    '49ers': 3792,\n",
    "    'Jaguars': 3760,\n",
    "    'Packers': 3733,\n",
    "    'Bengals': 3652,\n",
    "    'Titans': 3582,\n",
    "    'Browns': 3554,\n",
    "    'Cardinals': 3477,\n",
    "    'Vikings': 3523,\n",
    "    'Bears': 3291,\n",
    "    'Bills': 3229,\n",
    "    'Jets': 3111,\n",
    "    'Broncos': 3115,\n",
    "    'Ravens': 3225,\n",
    "    'Colts': 3108,\n",
    "    'Steelers': 2981,\n",
    "    'Washington': 2812\n",
    "}\n",
    "\n",
    "# Format the values to clean them up by adding commas in each thousands place\n",
    "p = \"{:,}\".format(sum(passing_2019.values()))\n",
    "\n",
    "# Use the Len and Sum functions to verify all 32 teams are in the dictionary and to see the Total Passing Yards for 2019\n",
    "print('2019 Total Regular Season Passing Yards of all', len(passing_2019), 'NFL Teams:', p)"
   ]
  },
  {
   "cell_type": "code",
   "execution_count": 46,
   "metadata": {},
   "outputs": [
    {
     "name": "stdout",
     "output_type": "stream",
     "text": [
      "2018 Total Regular Season Passing Yards of all 32 NFL Teams: 121,737\n"
     ]
    }
   ],
   "source": [
    "# Create a Dictionary with 2018 Total Passing Yards data\n",
    "passing_2018 = {\n",
    "    'Buccaneers': 5125,\n",
    "    'Steelers': 5008,\n",
    "    'Chiefs': 4955,\n",
    "    'Falcons': 4653,\n",
    "    'Rams': 4507,\n",
    "    'Packers': 4238,\n",
    "    'Colts': 4461,\n",
    "    'Eagles': 4275,\n",
    "    'Giants': 4047,\n",
    "    'Patriots': 4258,\n",
    "    'Chargers': 4089,\n",
    "    'Vikings': 4036,\n",
    "    'Browns': 4007,\n",
    "    '49ers': 3867,\n",
    "    'Saints': 4042,\n",
    "    'Texans': 3781,\n",
    "    'Panthers': 3836,\n",
    "    'Raiders': 3751,\n",
    "    'Broncos': 3695,\n",
    "    'Cowboys': 3538,\n",
    "    'Lions': 3576,\n",
    "    'Bears': 3564,\n",
    "    'Ravens': 3558,\n",
    "    'Bengals': 3290,\n",
    "    'Seahawks': 3093,\n",
    "    'Jaguars': 3109,\n",
    "    'Jets': 3165,\n",
    "    'Dolphins': 2900,\n",
    "    'Washington': 3021,\n",
    "    'Titans': 2975,\n",
    "    'Bills': 2794,\n",
    "    'Cardinals': 2523\n",
    "}\n",
    "\n",
    "# Format the values to clean them up by adding commas in each thousands place\n",
    "o = \"{:,}\".format(sum(passing_2018.values()))\n",
    "\n",
    "# Use the Len and Sum functions to verify all 32 teams are in the dictionary and to see the Total Passing Yards for 2018\n",
    "print('2018 Total Regular Season Passing Yards of all', len(passing_2018), 'NFL Teams:', o)"
   ]
  },
  {
   "cell_type": "code",
   "execution_count": 47,
   "metadata": {},
   "outputs": [
    {
     "name": "stdout",
     "output_type": "stream",
     "text": [
      "2017 Total Regular Season Passing Yards of all 32 NFL Teams: 114,870\n"
     ]
    }
   ],
   "source": [
    "# Create a Dictionary with 2017 Total Passing Yards data\n",
    "passing_2017 = {\n",
    "    'Patriots': 4418,\n",
    "    'Buccaneers': 4366,\n",
    "    'Chargers': 4431,\n",
    "    'Steelers': 4380,\n",
    "    'Lions': 4183,\n",
    "    'Saints': 4189,\n",
    "    'Chiefs': 4104,\n",
    "    '49ers': 3925,\n",
    "    'Falcons': 3990,\n",
    "    'Washington': 3751,\n",
    "    'Rams': 3831,\n",
    "    'Seahawks': 3657,\n",
    "    'Cardinals': 3640,\n",
    "    'Eagles': 3737,\n",
    "    'Vikings': 3753,\n",
    "    'Dolphins': 3535,\n",
    "    'Raiders': 3631,\n",
    "    'Jaguars': 3593,\n",
    "    'Giants': 3479,\n",
    "    'Broncos': 3333,\n",
    "    'Texans': 3278,\n",
    "    'Browns': 3228,\n",
    "    'Packers': 3167,\n",
    "    'Jets': 3182,\n",
    "    'Titans': 3191,\n",
    "    'Bengals': 3122,\n",
    "    'Cowboys': 3141,\n",
    "    'Panthers': 3077,\n",
    "    'Ravens': 3030,\n",
    "    'Colts': 2892,\n",
    "    'Bills': 2825,\n",
    "    'Bears': 2811\n",
    "}\n",
    "\n",
    "# Format the values to clean them up by adding commas in each thousands place\n",
    "n = \"{:,}\".format(sum(passing_2017.values()))\n",
    "\n",
    "# Use the Len and Sum functions to verify all 32 teams are in the dictionary and to see the Total Passing Yards for 2017\n",
    "print('2017 Total Regular Season Passing Yards of all', len(passing_2017), 'NFL Teams:', n)"
   ]
  },
  {
   "cell_type": "code",
   "execution_count": 48,
   "metadata": {},
   "outputs": [
    {
     "name": "stdout",
     "output_type": "stream",
     "text": [
      "2016 Total Regular Season Passing Yards of all 32 NFL Teams: 123,639\n"
     ]
    }
   ],
   "source": [
    "# Create a Dictionary with 2016 Total Passing Yards data\n",
    "passing_2016 = {\n",
    "    'Saints': 5074,\n",
    "    'Falcons': 4725,\n",
    "    'Washington': 4758,\n",
    "    'Colts': 4202,\n",
    "    'Patriots': 4308,\n",
    "    'Packers': 4199,\n",
    "    'Cardinals': 4136,\n",
    "    'Seahawks': 4124,\n",
    "    'Chargers': 4198,\n",
    "    'Steelers': 4202,\n",
    "    'Ravens': 4100,\n",
    "    'Lions': 4111,\n",
    "    'Bengals': 3942,\n",
    "    'Buccaneers': 3926,\n",
    "    'Bears': 3969,\n",
    "    'Raiders': 4051,\n",
    "    'Vikings': 3836,\n",
    "    'Giants': 3879,\n",
    "    'Panthers': 3685,\n",
    "    'Jaguars': 3728,\n",
    "    'Chiefs': 3740,\n",
    "    'Broncos': 3685,\n",
    "    'Cowboys': 3631,\n",
    "    'Eagles': 3585,\n",
    "    'Titans': 3541,\n",
    "    'Dolphins': 3500,\n",
    "    'Browns': 3264,\n",
    "    'Jets': 3466,\n",
    "    'Texans': 3176,\n",
    "    'Rams': 2951,\n",
    "    'Bills': 3036,\n",
    "    '49ers': 2911\n",
    "}\n",
    "\n",
    "# Format the values to clean them up by adding commas in each thousands place\n",
    "m = \"{:,}\".format(sum(passing_2016.values()))\n",
    "\n",
    "# Use the Len and Sum functions to verify all 32 teams are in the dictionary and to see the Total Passing Yards for 2016\n",
    "print('2016 Total Regular Season Passing Yards of all', len(passing_2016), 'NFL Teams:', m)"
   ]
  },
  {
   "cell_type": "code",
   "execution_count": 49,
   "metadata": {},
   "outputs": [
    {
     "name": "stdout",
     "output_type": "stream",
     "text": [
      "2015 Total Regular Season Passing Yards of all 32 NFL Teams: 124,843\n"
     ]
    }
   ],
   "source": [
    "# Create a Dictionary with 2015 Total Passing Yards data\n",
    "passing_2015 = {\n",
    "    'Saints': 4970,\n",
    "    'Chargers': 4591,\n",
    "    'Steelers': 4603,\n",
    "    'Patriots': 4587,\n",
    "    'Cardinals': 4616,\n",
    "    'Falcons': 4379,\n",
    "    'Giants': 4347,\n",
    "    'Lions': 4212,\n",
    "    'Ravens': 4271,\n",
    "    'Jaguars': 4108,\n",
    "    'Eagles': 4087,\n",
    "    'Washington': 4095,\n",
    "    'Dolphins': 3811,\n",
    "    'Broncos': 3970,\n",
    "    'Jets': 4057,\n",
    "    'Browns': 3782,\n",
    "    'Raiders': 3879,\n",
    "    'Bengals': 3923,\n",
    "    'Texans': 3833,\n",
    "    'Seahawks': 3790,\n",
    "    'Buccaneers': 3852,\n",
    "    'Colts': 3704,\n",
    "    'Titans': 3503,\n",
    "    'Panthers': 3589,\n",
    "    'Bears': 3663,\n",
    "    'Packers': 3503,\n",
    "    'Cowboys': 3471,\n",
    "    '49ers': 3316,\n",
    "    'Bills': 3343,\n",
    "    'Chiefs': 3255,\n",
    "    'Vikings': 2928,\n",
    "    'Rams': 2805\n",
    "}\n",
    "\n",
    "# Format the values to clean them up by adding commas in each thousands place\n",
    "l = \"{:,}\".format(sum(passing_2015.values()))\n",
    "\n",
    "# Use the Len and Sum functions to verify all 32 teams are in the dictionary and to see the Total Passing Yards for 2015\n",
    "print('2015 Total Regular Season Passing Yards of all', len(passing_2015), 'NFL Teams:', l)"
   ]
  },
  {
   "cell_type": "code",
   "execution_count": 50,
   "metadata": {},
   "outputs": [
    {
     "name": "stdout",
     "output_type": "stream",
     "text": [
      "2014 Total Regular Season Passing Yards of all 32 NFL Teams: 121,247\n"
     ]
    }
   ],
   "source": [
    "# Create a Dictionary with 2014 Total Passing Yards data\n",
    "passing_2014 = {\n",
    "    'Colts': 4894,\n",
    "    'Steelers': 4825,\n",
    "    'Saints': 4764,\n",
    "    'Broncos': 4661,\n",
    "    'Falcons': 4553,\n",
    "    'Eagles': 4356,\n",
    "    'Giants': 4272,\n",
    "    'Washington': 4047,\n",
    "    'Packers': 4261,\n",
    "    'Chargers': 4098,\n",
    "    'Patriots': 4121,\n",
    "    'Lions': 4030,\n",
    "    'Dolphins': 3729,\n",
    "    'Bears': 3792,\n",
    "    'Cowboys': 3784,\n",
    "    'Cardinals': 3808,\n",
    "    'Ravens': 3819,\n",
    "    'Bills': 3614,\n",
    "    'Panthers': 3511,\n",
    "    'Titans': 3412,\n",
    "    'Rams': 3400,\n",
    "    'Browns': 3465,\n",
    "    'Buccaneers': 3297,\n",
    "    'Vikings': 3244,\n",
    "    'Bengals': 3421,\n",
    "    'Seahawks': 3250,\n",
    "    'Texans': 3352,\n",
    "    'Raiders': 3275,\n",
    "    'Jaguars': 3001,\n",
    "    'Chiefs': 3182,\n",
    "    '49ers': 3063,\n",
    "    'Jets': 2946\n",
    "}\n",
    "\n",
    "# Format the values to clean them up by adding commas in each thousands place\n",
    "k = \"{:,}\".format(sum(passing_2014.values()))\n",
    "\n",
    "# Use the Len and Sum functions to verify all 32 teams are in the dictionary and to see the Total Passing Yards for 2014\n",
    "print('2014 Total Regular Season Passing Yards of all', len(passing_2014), 'NFL Teams:', k)"
   ]
  },
  {
   "cell_type": "code",
   "execution_count": 51,
   "metadata": {},
   "outputs": [
    {
     "name": "stdout",
     "output_type": "stream",
     "text": [
      "2013 Total Regular Season Passing Yards of all 32 NFL Teams: 120,633\n"
     ]
    }
   ],
   "source": [
    "# Create a Dictionary with 2013 Total Passing Yards data\n",
    "passing_2013 = {\n",
    "    'Broncos': 5444,\n",
    "    'Saints': 4918,\n",
    "    'Lions': 4482,\n",
    "    'Falcons': 4243,\n",
    "    'Packers': 4268,\n",
    "    'Chargers': 4328,\n",
    "    'Bears': 4281,\n",
    "    'Eagles': 4110,\n",
    "    'Browns': 4047,\n",
    "    'Patriots': 4087,\n",
    "    'Bengals': 4136,\n",
    "    'Steelers': 4017,\n",
    "    'Cardinals': 4002,\n",
    "    'Cowboys': 3954,\n",
    "    'Texans': 3813,\n",
    "    'Washington': 3751,\n",
    "    'Dolphins': 3567,\n",
    "    'Colts': 3725,\n",
    "    'Ravens': 3590,\n",
    "    'Giants': 3588,\n",
    "    'Jaguars': 3441,\n",
    "    'Titans': 3496,\n",
    "    'Vikings': 3427,\n",
    "    'Raiders': 3340,\n",
    "    'Chiefs': 3340,\n",
    "    'Seahawks': 3236,\n",
    "    'Panthers': 3043,\n",
    "    'Bills': 3103,\n",
    "    'Rams': 3125,\n",
    "    'Jets': 2932,\n",
    "    '49ers': 2979,\n",
    "    'Buccaneers': 2820\n",
    "}\n",
    "\n",
    "# Format the values to clean them up by adding commas in each thousands place\n",
    "j = \"{:,}\".format(sum(passing_2013.values()))\n",
    "\n",
    "# Use the Len and Sum functions to verify all 32 teams are in the dictionary and to see the Total Passing Yards for 2013\n",
    "print('2013 Total Regular Season Passing Yards of all', len(passing_2013), 'NFL Teams:', j)"
   ]
  },
  {
   "cell_type": "code",
   "execution_count": 52,
   "metadata": {},
   "outputs": [
    {
     "name": "stdout",
     "output_type": "stream",
     "text": [
      "2012 Total Regular Season Passing Yards of all 32 NFL Teams: 118,418\n"
     ]
    }
   ],
   "source": [
    "# Create a Dictionary with 2012 Total Passing Yards data\n",
    "passing_2012 = {\n",
    "    'Saints': 4997,\n",
    "    'Lions': 4927,\n",
    "    'Cowboys': 4729,\n",
    "    'Patriots': 4662,\n",
    "    'Falcons': 4509,\n",
    "    'Broncos': 4534,\n",
    "    'Colts': 4128,\n",
    "    'Packers': 4049,\n",
    "    'Raiders': 4084,\n",
    "    'Buccaneers': 3983,\n",
    "    'Eagles': 3791,\n",
    "    'Texans': 3830,\n",
    "    'Steelers': 3787,\n",
    "    'Ravens': 3739,\n",
    "    'Giants': 3825,\n",
    "    'Panthers': 3683,\n",
    "    'Bengals': 3578,\n",
    "    'Rams': 3550,\n",
    "    'Jaguars': 3419,\n",
    "    'Browns': 3435,\n",
    "    'Washington': 3422,\n",
    "    'Chargers': 3295,\n",
    "    'Titans': 3323,\n",
    "    '49ers': 3298,\n",
    "    'Bills': 3269,\n",
    "    'Dolphins': 3182,\n",
    "    'Cardinals': 3005,\n",
    "    'Bears': 2999,\n",
    "    'Seahawks': 3031,\n",
    "    'Jets': 2891,\n",
    "    'Chiefs': 2713,\n",
    "    'Vikings': 2751\n",
    "}\n",
    "\n",
    "# Format the values to clean them up by adding commas in each thousands place\n",
    "i = \"{:,}\".format(sum(passing_2012.values()))\n",
    "\n",
    "# Use the Len and Sum functions to verify all 32 teams are in the dictionary and to see the Total Passing Yards for 2012\n",
    "print('2012 Total Regular Season Passing Yards of all', len(passing_2012), 'NFL Teams:', i)"
   ]
  },
  {
   "cell_type": "code",
   "execution_count": 53,
   "metadata": {},
   "outputs": [
    {
     "name": "stdout",
     "output_type": "stream",
     "text": [
      "2011 Total Regular Season Passing Yards of all 32 NFL Teams: 117,601\n"
     ]
    }
   ],
   "source": [
    "# Create a Dictionary with 2011 Total Passing Yards data\n",
    "passing_2011 = {\n",
    "    'Saints': 5347,\n",
    "    'Patriots': 5084,\n",
    "    'Packers': 4924,\n",
    "    'Lions': 4814,\n",
    "    'Giants': 4734,\n",
    "    'Chargers': 4426,\n",
    "    'Cowboys': 4201,\n",
    "    'Falcons': 4192,\n",
    "    'Steelers': 4054,\n",
    "    'Eagles': 4110,\n",
    "    'Raiders': 3962,\n",
    "    'Titans': 3923,\n",
    "    'Panthers': 3829,\n",
    "    'Washington': 3773,\n",
    "    'Cardinals': 3567,\n",
    "    'Bills': 3703,\n",
    "    'Buccaneers': 3650,\n",
    "    'Texans': 3506,\n",
    "    'Ravens': 3423,\n",
    "    'Jets': 3297,\n",
    "    'Bengals': 3340,\n",
    "    'Seahawks': 3105,\n",
    "    'Dolphins': 3091,\n",
    "    'Bears': 3011,\n",
    "    'Browns': 3090,\n",
    "    'Chiefs': 3080,\n",
    "    'Rams': 2870,\n",
    "    'Vikings': 2957,\n",
    "    'Colts': 2995,\n",
    "    '49ers': 2930,\n",
    "    'Broncos': 2434,\n",
    "    'Jaguars': 2179\n",
    "}\n",
    "\n",
    "# Format the values to clean them up by adding commas in each thousands place\n",
    "h = \"{:,}\".format(sum(passing_2011.values()))\n",
    "\n",
    "# Use the Len and Sum functions to verify all 32 teams are in the dictionary and to see the Total Passing Yards for 2011\n",
    "print('2011 Total Regular Season Passing Yards of all', len(passing_2011), 'NFL Teams:', h)"
   ]
  },
  {
   "cell_type": "code",
   "execution_count": 54,
   "metadata": {},
   "outputs": [
    {
     "name": "stdout",
     "output_type": "stream",
     "text": [
      "2010 Total Regular Season Passing Yards of all 32 NFL Teams: 113,432\n"
     ]
    }
   ],
   "source": [
    "# Create a Dictionary with 2010 Total Passing Yards data\n",
    "passing_2010 = {\n",
    "    'Chargers': 4519,\n",
    "    'Colts': 4609,\n",
    "    'Saints': 4441,\n",
    "    'Texans': 4144,\n",
    "    'Packers': 4124,\n",
    "    'Broncos': 4038,\n",
    "    'Washington': 3913,\n",
    "    'Eagles': 3906,\n",
    "    'Cowboys': 4042,\n",
    "    'Patriots': 3847,\n",
    "    'Giants': 3885,\n",
    "    'Lions': 3810,\n",
    "    'Bengals': 3767,\n",
    "    'Steelers': 3601,\n",
    "    'Dolphins': 3527,\n",
    "    'Falcons': 3567,\n",
    "    'Ravens': 3335,\n",
    "    '49ers': 3356,\n",
    "    'Buccaneers': 3361,\n",
    "    'Seahawks': 3341,\n",
    "    'Rams': 3268,\n",
    "    'Raiders': 3180,\n",
    "    'Jets': 3242,\n",
    "    'Bears': 3015,\n",
    "    'Bills': 3158,\n",
    "    'Jaguars': 3065,\n",
    "    'Vikings': 3097,\n",
    "    'Titans': 3107,\n",
    "    'Cardinals': 2921,\n",
    "    'Browns': 2989,\n",
    "    'Chiefs': 2968,\n",
    "    'Panthers': 2289\n",
    "}\n",
    "\n",
    "# Format the values to clean them up by adding commas in each thousands place\n",
    "g = \"{:,}\".format(sum(passing_2010.values()))\n",
    "\n",
    "# Use the Len and Sum functions to verify all 32 teams are in the dictionary and to see the Total Passing Yards for 2010\n",
    "print('2010 Total Regular Season Passing Yards of all', len(passing_2010), 'NFL Teams:', g)"
   ]
  },
  {
   "cell_type": "code",
   "execution_count": 55,
   "metadata": {},
   "outputs": [
    {
     "name": "stdout",
     "output_type": "stream",
     "text": [
      "2009 Total Regular Season Passing Yards of all 32 NFL Teams: 111,853\n"
     ]
    }
   ],
   "source": [
    "# Create a Dictionary with 2009 Total Passing Yards data\n",
    "passing_2009 = {\n",
    "    'Texans': 4654,\n",
    "    'Colts': 4515,\n",
    "    'Patriots': 4436,\n",
    "    'Chargers': 4338,\n",
    "    'Steelers': 4148,\n",
    "    'Packers': 4180,\n",
    "    'Saints': 4355,\n",
    "    'Cowboys': 4287,\n",
    "    'Vikings': 4156,\n",
    "    'Eagles': 4089,\n",
    "    'Giants': 4019,\n",
    "    'Cardinals': 4016,\n",
    "    'Broncos': 3627,\n",
    "    'Washington': 3490,\n",
    "    'Seahawks': 3503,\n",
    "    'Falcons': 3571,\n",
    "    'Bears': 3473,\n",
    "    'Ravens': 3419,\n",
    "    'Jaguars': 3356,\n",
    "    'Lions': 3168,\n",
    "    'Dolphins': 3170,\n",
    "    '49ers': 3052,\n",
    "    'Chiefs': 2922,\n",
    "    'Buccaneers': 2975,\n",
    "    'Bengals': 2890,\n",
    "    'Titans': 3031,\n",
    "    'Panthers': 2799,\n",
    "    'Rams': 2686,\n",
    "    'Raiders': 2557,\n",
    "    'Bills': 2515,\n",
    "    'Jets': 2380,\n",
    "    'Browns': 2076\n",
    "}\n",
    "\n",
    "# Format the values to clean them up by adding commas in each thousands place\n",
    "f = \"{:,}\".format(sum(passing_2009.values()))\n",
    "\n",
    "# Use the Len and Sum functions to verify all 32 teams are in the dictionary and to see the Total Passing Yards for 2009\n",
    "print('2009 Total Regular Season Passing Yards of all', len(passing_2009), 'NFL Teams:', f)"
   ]
  },
  {
   "cell_type": "code",
   "execution_count": 56,
   "metadata": {},
   "outputs": [
    {
     "name": "stdout",
     "output_type": "stream",
     "text": [
      "2008 Total Regular Season Passing Yards of all 32 NFL Teams: 108,177\n"
     ]
    }
   ],
   "source": [
    "# Create a Dictionary with 2008 Total Passing Yards data\n",
    "passing_2008 = {\n",
    "    'Saints': 4977,\n",
    "    'Cardinals': 4674,\n",
    "    'Broncos': 4471,\n",
    "    'Texans': 4267,\n",
    "    'Colts': 4094,\n",
    "    'Eagles': 3911,\n",
    "    'Packers': 3813,\n",
    "    'Chargers': 3858,\n",
    "    'Cowboys': 3789,\n",
    "    'Patriots': 3569,\n",
    "    'Buccaneers': 3619,\n",
    "    'Dolphins': 3632,\n",
    "    '49ers': 3379,\n",
    "    'Jaguars': 3332,\n",
    "    'Steelers': 3301,\n",
    "    'Jets': 3303,\n",
    "    'Falcons': 3336,\n",
    "    'Chiefs': 3129,\n",
    "    'Giants': 3177,\n",
    "    'Bills': 3040,\n",
    "    'Lions': 2960,\n",
    "    'Washington': 3025,\n",
    "    'Panthers': 3158,\n",
    "    'Rams': 2947,\n",
    "    'Bears': 3061,\n",
    "    'Vikings': 2956,\n",
    "    'Ravens': 2808,\n",
    "    'Titans': 2819,\n",
    "    'Seahawks': 2617,\n",
    "    'Bengals': 2406,\n",
    "    'Raiders': 2369,\n",
    "    'Browns': 2380\n",
    "}\n",
    "\n",
    "# Format the values to clean them up by adding commas in each thousands place\n",
    "e = \"{:,}\".format(sum(passing_2008.values()))\n",
    "\n",
    "# Use the Len and Sum functions to verify all 32 teams are in the dictionary and to see the Total Passing Yards for 2008\n",
    "print('2008 Total Regular Season Passing Yards of all', len(passing_2008), 'NFL Teams:', e)"
   ]
  },
  {
   "cell_type": "code",
   "execution_count": 57,
   "metadata": {},
   "outputs": [
    {
     "name": "stdout",
     "output_type": "stream",
     "text": [
      "2007 Total Regular Season Passing Yards of all 32 NFL Teams: 109,725\n"
     ]
    }
   ],
   "source": [
    "# Create a Dictionary with 2007 Total Passing Yards data\n",
    "passing_2007 = {\n",
    "    'Patriots': 4731,\n",
    "    'Packers': 4334,\n",
    "    'Saints': 4314,\n",
    "    'Cowboys': 4105,\n",
    "    'Cardinals': 4065,\n",
    "    'Lions': 3878,\n",
    "    'Seahawks': 3964,\n",
    "    'Colts': 4033,\n",
    "    'Bengals': 4012,\n",
    "    'Eagles': 3755,\n",
    "    'Texans': 3751,\n",
    "    'Browns': 3726,\n",
    "    'Broncos': 3584,\n",
    "    'Bears': 3362,\n",
    "    'Washington': 3463,\n",
    "    'Buccaneers': 3357,\n",
    "    'Falcons': 3296,\n",
    "    'Rams': 3233,\n",
    "    'Chiefs': 3181,\n",
    "    'Jaguars': 3328,\n",
    "    'Steelers': 3071,\n",
    "    'Giants': 3154,\n",
    "    'Jets': 3014,\n",
    "    'Dolphins': 3031,\n",
    "    'Ravens': 3035,\n",
    "    'Chargers': 3005,\n",
    "    'Titans': 2878,\n",
    "    'Panthers': 2735,\n",
    "    'Vikings': 2745,\n",
    "    'Raiders': 2631,\n",
    "    'Bills': 2634,\n",
    "    '49ers': 2320\n",
    "}\n",
    "\n",
    "# Format the values to clean them up by adding commas in each thousands place\n",
    "d = \"{:,}\".format(sum(passing_2007.values()))\n",
    "\n",
    "# Use the Len and Sum functions to verify all 32 teams are in the dictionary and to see the Total Passing Yards for 2007\n",
    "print('2007 Total Regular Season Passing Yards of all', len(passing_2007), 'NFL Teams:', d)"
   ]
  },
  {
   "cell_type": "code",
   "execution_count": 58,
   "metadata": {},
   "outputs": [
    {
     "name": "stdout",
     "output_type": "stream",
     "text": [
      "2006 Total Regular Season Passing Yards of all 32 NFL Teams: 104,864\n"
     ]
    }
   ],
   "source": [
    "# Create a Dictionary with 2006 Total Passing Yards data\n",
    "passing_2006 = {\n",
    "    'Saints': 4503,\n",
    "    'Colts': 4308,\n",
    "    'Rams': 3962,\n",
    "    'Eagles': 4119,\n",
    "    'Lions': 3820,\n",
    "    'Cowboys': 3836,\n",
    "    'Bengals': 3833,\n",
    "    'Steelers': 3733,\n",
    "    'Packers': 3795,\n",
    "    'Cardinals': 3662,\n",
    "    'Ravens': 3435,\n",
    "    'Patriots': 3400,\n",
    "    'Dolphins': 3287,\n",
    "    'Panthers': 3264,\n",
    "    'Bears': 3281,\n",
    "    'Chargers': 3262,\n",
    "    'Vikings': 3123,\n",
    "    'Seahawks': 3054,\n",
    "    'Jets': 3153,\n",
    "    'Browns': 2898,\n",
    "    'Giants': 3058,\n",
    "    'Chiefs': 3000,\n",
    "    'Washington': 3027,\n",
    "    'Jaguars': 2882,\n",
    "    'Bills': 2719,\n",
    "    'Texans': 2778,\n",
    "    'Broncos': 2799,\n",
    "    'Buccaneers': 2798,\n",
    "    '49ers': 2688,\n",
    "    'Raiders': 2420,\n",
    "    'Titans': 2596,\n",
    "    'Falcons': 2371\n",
    "}\n",
    "\n",
    "# Format the values to clean them up by adding commas in each thousands place\n",
    "c = \"{:,}\".format(sum(passing_2006.values()))\n",
    "\n",
    "# Use the Len and Sum functions to verify all 32 teams are in the dictionary and to see the Total Passing Yards for 2006\n",
    "print('2006 Total Regular Season Passing Yards of all', len(passing_2006), 'NFL Teams:', c)"
   ]
  },
  {
   "cell_type": "code",
   "execution_count": 59,
   "metadata": {},
   "outputs": [
    {
     "name": "stdout",
     "output_type": "stream",
     "text": [
      "2005 Total Regular Season Passing Yards of all 32 NFL Teams: 104,168\n"
     ]
    }
   ],
   "source": [
    "# Create a Dictionary with 2005 Total Passing Yards data\n",
    "passing_2005 = {\n",
    "    'Cardinals': 4437,\n",
    "    'Patriots': 4120,\n",
    "    'Colts': 4096,\n",
    "    'Rams': 4036,\n",
    "    'Bengals': 3820,\n",
    "    'Chiefs': 3810,\n",
    "    'Packers': 3766,\n",
    "    'Eagles': 3677,\n",
    "    'Titans': 3597,\n",
    "    'Raiders': 3582,\n",
    "    'Giants': 3578,\n",
    "    'Chargers': 3495,\n",
    "    'Seahawks': 3458,\n",
    "    'Saints': 3343,\n",
    "    'Cowboys': 3341,\n",
    "    'Dolphins': 3300,\n",
    "    'Panthers': 3271,\n",
    "    'Broncos': 3227,\n",
    "    'Jaguars': 3190,\n",
    "    'Vikings': 3146,\n",
    "    'Washington': 3106,\n",
    "    'Ravens': 3088,\n",
    "    'Browns': 3047,\n",
    "    'Steelers': 2926,\n",
    "    'Buccaneers': 2890,\n",
    "    'Lions': 2848,\n",
    "    'Falcons': 2679,\n",
    "    'Jets': 2642,\n",
    "    'Bills': 2515,\n",
    "    'Texans': 2237,\n",
    "    'Bears': 2002,\n",
    "    '49ers': 1898\n",
    "}\n",
    "\n",
    "# Format the values to clean them up by adding commas in each thousands place\n",
    "b = \"{:,}\".format(sum(passing_2005.values()))\n",
    "\n",
    "# Use the Len and Sum functions to verify all 32 teams are in the dictionary and to see the Total Passing Yards for 2005\n",
    "print('2005 Total Regular Season Passing Yards of all', len(passing_2005), 'NFL Teams:', b)"
   ]
  },
  {
   "cell_type": "code",
   "execution_count": 60,
   "metadata": {},
   "outputs": [
    {
     "name": "stdout",
     "output_type": "stream",
     "text": [
      "2004 Total Regular Season Passing Yards of all 32 NFL Teams: 107,797\n"
     ]
    }
   ],
   "source": [
    "# Create a Dictionary with 2004 Total Passing Yards data\n",
    "passing_2004 = {\n",
    "    'Colts': 4623,\n",
    "    'Vikings': 4516,\n",
    "    'Packers': 4449,\n",
    "    'Chiefs': 4406,\n",
    "    'Rams': 4253,\n",
    "    'Broncos': 3999,\n",
    "    'Eagles': 3979,\n",
    "    'Raiders': 3858,\n",
    "    'Panthers': 3643,\n",
    "    'Titans': 3616,\n",
    "    'Patriots': 3588,\n",
    "    'Saints': 3587,\n",
    "    'Seahawks': 3539,\n",
    "    'Buccaneers': 3474,\n",
    "    'Cowboys': 3428,\n",
    "    'Chargers': 3357,\n",
    "    'Bengals': 3301,\n",
    "    'Texans': 3246,\n",
    "    'Jaguars': 3159,\n",
    "    '49ers': 3136,\n",
    "    'Dolphins': 3065,\n",
    "    'Jets': 3050,\n",
    "    'Lions': 2916,\n",
    "    'Cardinals': 2882,\n",
    "    'Browns': 2824,\n",
    "    'Giants': 2818,\n",
    "    'Bills': 2817,\n",
    "    'Steelers': 2720,\n",
    "    'Washington': 2632,\n",
    "    'Falcons': 2412,\n",
    "    'Ravens': 2312,\n",
    "    'Bears': 2192\n",
    "}\n",
    "\n",
    "# Format the values to clean them up by adding commas in each thousands place\n",
    "a = \"{:,}\".format(sum(passing_2004.values()))\n",
    "\n",
    "# Use the Len and Sum functions to verify all 32 teams are in the dictionary and to see the Total Passing Yards for 2004\n",
    "print('2004 Total Regular Season Passing Yards of all', len(passing_2004), 'NFL Teams:', a)"
   ]
  },
  {
   "cell_type": "code",
   "execution_count": 61,
   "metadata": {},
   "outputs": [],
   "source": [
    "# Import the modules needed to plot the dictionary values\n",
    "\n",
    "import matplotlib.pyplot as plt\n",
    "import pandas as pd\n",
    "import numpy as np"
   ]
  },
  {
   "cell_type": "code",
   "execution_count": 62,
   "metadata": {},
   "outputs": [
    {
     "data": {
      "text/plain": [
       "<function matplotlib.pyplot.show(close=None, block=None)>"
      ]
     },
     "execution_count": 62,
     "metadata": {},
     "output_type": "execute_result"
    },
    {
     "data": {
      "image/png": "[encoded data removed]",
      "text/plain": [
       "<Figure size 1440x720 with 1 Axes>"
      ]
     },
     "metadata": {
      "needs_background": "light"
     },
     "output_type": "display_data"
    }
   ],
   "source": [
    "# Plot the dictionary values to visualize the data and edit the table to make it digestible and attractive\n",
    "\n",
    "plt.figure(figsize = (20, 10))\n",
    "plt.plot(['2004', '2005', '2006', '2007', '2008', '2009', '2010', '2011', '2012', '2013', '2014', '2015', '2016', '2017', '2018', '2019', '2020', '2021'],\n",
    "         [a, b, c, d, e, f, g, h, i, j, k, l, m, n, o, p, q, r], '^', color = 'brown')\n",
    "plt.title('Total NFL Regular Season Passing Yards', fontsize=35, color = 'blue')\n",
    "plt.xlabel('NFL Season', fontsize=30, color = 'red')\n",
    "plt.ylabel('Passing Yards', fontsize=30, color = 'red')\n",
    "plt.show"
   ]
  },
  {
   "cell_type": "code",
   "execution_count": null,
   "metadata": {},
   "outputs": [],
   "source": []
  },
  {
   "cell_type": "code",
   "execution_count": null,
   "metadata": {},
   "outputs": [],
   "source": []
  }
 ],
 "metadata": {
  "kernelspec": {
   "display_name": "Python 3 (ipykernel)",
   "language": "python",
   "name": "python3"
  },
  "language_info": {
   "codemirror_mode": {
    "name": "ipython",
    "version": 3
   },
   "file_extension": ".py",
   "mimetype": "text/x-python",
   "name": "python",
   "nbconvert_exporter": "python",
   "pygments_lexer": "ipython3",
   "version": "3.9.12"
  },
  "vscode": {
   "interpreter": {
    "hash": "ed6976016553f17b48c1220b646fb038ae8c303c41bffe4fdc284dd9c2fb9815"
   }
  }
 },
 "nbformat": 4,
 "nbformat_minor": 2
}
